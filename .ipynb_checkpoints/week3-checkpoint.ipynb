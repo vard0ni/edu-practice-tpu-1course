{
 "cells": [
  {
   "cell_type": "markdown",
   "id": "8d2e6255",
   "metadata": {},
   "source": [
    "## Week 3\n",
    "### Option 2"
   ]
  },
  {
   "cell_type": "markdown",
   "id": "f1c943ad",
   "metadata": {},
   "source": [
    "### Import libraries"
   ]
  },
  {
   "cell_type": "code",
   "execution_count": 1,
   "id": "bf327f12",
   "metadata": {},
   "outputs": [],
   "source": [
    "import math\n",
    "import numpy as np\n",
    "import cv2 "
   ]
  },
  {
   "cell_type": "markdown",
   "id": "adf69ff9",
   "metadata": {},
   "source": [
    "### Import image and resize it"
   ]
  },
  {
   "cell_type": "code",
   "execution_count": 2,
   "id": "19f9e510",
   "metadata": {},
   "outputs": [],
   "source": [
    "img = cv2.imread(\"C:\\\\Users\\\\zahar\\Desktop\\\\edu-practice\\\\image.png\")\n",
    "\n",
    "width = 400\n",
    "height = 400\n",
    "dim = (width, height)\n",
    "rimg = cv2.resize(img, dim)"
   ]
  },
  {
   "cell_type": "markdown",
   "id": "ddadc9e6",
   "metadata": {},
   "source": [
    "### Task 2"
   ]
  },
  {
   "cell_type": "code",
   "execution_count": null,
   "id": "a1016669",
   "metadata": {},
   "outputs": [],
   "source": [
    "img = rimg.copy()\n",
    "for i in range(0, 1001):\n",
    "    cords = np.random.randint(0, high=400, size=(2,))\n",
    "    radius = 2  \n",
    "    color = list(np.random.random(size=3) * 256)\n",
    "    thickness = -1  \n",
    "    \n",
    "    cv2.circle(img, cords, radius, color, thickness)\n",
    "\n",
    "cv2.imshow(\"img\", img)\n",
    "cv2.waitKey(0)\n",
    "cv2.destroyAllWindows()"
   ]
  },
  {
   "cell_type": "markdown",
   "id": "9b21994a",
   "metadata": {},
   "source": [
    "### Task 4"
   ]
  },
  {
   "cell_type": "code",
   "execution_count": 3,
   "id": "b4cf4429",
   "metadata": {},
   "outputs": [
    {
     "name": "stdout",
     "output_type": "stream",
     "text": [
      "Enter 'R' or 'G' or 'B':R\n"
     ]
    }
   ],
   "source": [
    "def task4(channel):\n",
    "    if channel == \"R\":\n",
    "        red = rimg.copy()\n",
    "        red[:, :, 0] = 0\n",
    "        red[:, :, 1] = 0\n",
    "        cv2.imshow('Red', red)\n",
    "    elif channel == \"G\":\n",
    "        green = rimg.copy()\n",
    "        green[:, :, 0] = 0\n",
    "        green[:, :, 2] = 0\n",
    "        cv2.imshow('Green', green)\n",
    "    else:\n",
    "        blue = rimg.copy()\n",
    "        blue[:, :, 1] = 0\n",
    "        blue[:, :, 2] = 0\n",
    "        cv2.imshow('Blue', blue)\n",
    "    cv2.waitKey(0)\n",
    "    cv2.destroyAllWindows()\n",
    "\n",
    "channel = str(input(\"Enter 'R' or 'G' or 'B':\"))\n",
    "task4(channel)"
   ]
  },
  {
   "cell_type": "markdown",
   "id": "a2e09426",
   "metadata": {},
   "source": [
    "### Task 6"
   ]
  },
  {
   "cell_type": "code",
   "execution_count": null,
   "id": "a85f7257",
   "metadata": {},
   "outputs": [],
   "source": [
    "def task6(rimg):\n",
    "    # fill inside triangle\n",
    "    img = rimg.copy()\n",
    "    points = np.array([[160, 130], [350, 130], [250, 300]])\n",
    "    cv2.fillPoly(rimg, pts=[points], color=(192, 192, 192))\n",
    "    \n",
    "    # fill outside triangle\n",
    "    fill_color = [255, 255, 0]\n",
    "    mask_value = 255\n",
    "    contours = [np.array([[160, 130], [350, 130], [250, 300]])]\n",
    "    stencil = np.zeros(rimg.shape[:-1])\n",
    "    cv2.fillPoly(stencil, contours, mask_value)\n",
    "    sel = stencil != mask_value  # select everything != mask_value\n",
    "    rimg[sel] = fill_color       # and fill it with fill_color\n",
    "    \n",
    "    cv2.polylines(img, [points], True, (0, 255, 0), 2)\n",
    "    cv2.imshow(\"img1\", img)\n",
    "    cv2.imshow(\"img2\", rimg)\n",
    "    cv2.waitKey(0)\n",
    "    cv2.destroyAllWindows()\n",
    "    \n",
    "task6(rimg)"
   ]
  },
  {
   "cell_type": "markdown",
   "id": "e660bf67",
   "metadata": {},
   "source": [
    "### Task 8"
   ]
  },
  {
   "cell_type": "code",
   "execution_count": null,
   "id": "beaae185",
   "metadata": {
    "scrolled": true
   },
   "outputs": [],
   "source": [
    "def task8(rimg):\n",
    "    cv2.imshow(\"img1\", rimg)\n",
    "    for i in range(0, 401, 2):\n",
    "        image = cv2.line(rimg, (0,i), (400, i), (128,128,128), 1)\n",
    "\n",
    "    cv2.imshow(\"img2\", image)\n",
    "    cv2.waitKey(0)\n",
    "    cv2.destroyAllWindows()\n",
    "task8(rimg)"
   ]
  },
  {
   "cell_type": "code",
   "execution_count": null,
   "id": "0d45b5b0",
   "metadata": {},
   "outputs": [],
   "source": []
  }
 ],
 "metadata": {
  "kernelspec": {
   "display_name": "Python 3 (ipykernel)",
   "language": "python",
   "name": "python3"
  },
  "language_info": {
   "codemirror_mode": {
    "name": "ipython",
    "version": 3
   },
   "file_extension": ".py",
   "mimetype": "text/x-python",
   "name": "python",
   "nbconvert_exporter": "python",
   "pygments_lexer": "ipython3",
   "version": "3.10.1"
  }
 },
 "nbformat": 4,
 "nbformat_minor": 5
}
